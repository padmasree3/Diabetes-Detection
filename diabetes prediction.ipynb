{
 "cells": [
  {
   "cell_type": "markdown",
   "id": "8deb5015",
   "metadata": {},
   "source": [
    "# DIABETES PREDICTION"
   ]
  },
  {
   "cell_type": "code",
   "execution_count": 76,
   "id": "d993bff0",
   "metadata": {},
   "outputs": [],
   "source": [
    "import numpy as np\n",
    "import pandas as pd"
   ]
  },
  {
   "cell_type": "markdown",
   "id": "d1c9fdc4",
   "metadata": {},
   "source": [
    "# IMPORTING DATASET"
   ]
  },
  {
   "cell_type": "code",
   "execution_count": 77,
   "id": "db66cd50",
   "metadata": {},
   "outputs": [
    {
     "data": {
      "text/html": [
       "<div>\n",
       "<style scoped>\n",
       "    .dataframe tbody tr th:only-of-type {\n",
       "        vertical-align: middle;\n",
       "    }\n",
       "\n",
       "    .dataframe tbody tr th {\n",
       "        vertical-align: top;\n",
       "    }\n",
       "\n",
       "    .dataframe thead th {\n",
       "        text-align: right;\n",
       "    }\n",
       "</style>\n",
       "<table border=\"1\" class=\"dataframe\">\n",
       "  <thead>\n",
       "    <tr style=\"text-align: right;\">\n",
       "      <th></th>\n",
       "      <th>Unnamed: 0</th>\n",
       "      <th>Pregnancies</th>\n",
       "      <th>Glucose</th>\n",
       "      <th>blood pressure</th>\n",
       "      <th>skin thickness</th>\n",
       "      <th>Insulin</th>\n",
       "      <th>BMI</th>\n",
       "      <th>DiabetesPedigreeFunction</th>\n",
       "      <th>Age</th>\n",
       "      <th>Outcome</th>\n",
       "    </tr>\n",
       "  </thead>\n",
       "  <tbody>\n",
       "    <tr>\n",
       "      <th>0</th>\n",
       "      <td>NaN</td>\n",
       "      <td>6.0</td>\n",
       "      <td>148.0</td>\n",
       "      <td>72.0</td>\n",
       "      <td>35.0</td>\n",
       "      <td>0.0</td>\n",
       "      <td>33.6</td>\n",
       "      <td>0.627</td>\n",
       "      <td>50.0</td>\n",
       "      <td>1.0</td>\n",
       "    </tr>\n",
       "    <tr>\n",
       "      <th>1</th>\n",
       "      <td>NaN</td>\n",
       "      <td>1.0</td>\n",
       "      <td>85.0</td>\n",
       "      <td>66.0</td>\n",
       "      <td>29.0</td>\n",
       "      <td>0.0</td>\n",
       "      <td>26.6</td>\n",
       "      <td>0.351</td>\n",
       "      <td>31.0</td>\n",
       "      <td>0.0</td>\n",
       "    </tr>\n",
       "    <tr>\n",
       "      <th>2</th>\n",
       "      <td>NaN</td>\n",
       "      <td>8.0</td>\n",
       "      <td>183.0</td>\n",
       "      <td>64.0</td>\n",
       "      <td>0.0</td>\n",
       "      <td>0.0</td>\n",
       "      <td>23.3</td>\n",
       "      <td>0.672</td>\n",
       "      <td>32.0</td>\n",
       "      <td>1.0</td>\n",
       "    </tr>\n",
       "    <tr>\n",
       "      <th>3</th>\n",
       "      <td>NaN</td>\n",
       "      <td>1.0</td>\n",
       "      <td>89.0</td>\n",
       "      <td>66.0</td>\n",
       "      <td>23.0</td>\n",
       "      <td>94.0</td>\n",
       "      <td>28.1</td>\n",
       "      <td>0.167</td>\n",
       "      <td>21.0</td>\n",
       "      <td>0.0</td>\n",
       "    </tr>\n",
       "    <tr>\n",
       "      <th>4</th>\n",
       "      <td>NaN</td>\n",
       "      <td>0.0</td>\n",
       "      <td>137.0</td>\n",
       "      <td>40.0</td>\n",
       "      <td>35.0</td>\n",
       "      <td>168.0</td>\n",
       "      <td>43.1</td>\n",
       "      <td>2.288</td>\n",
       "      <td>33.0</td>\n",
       "      <td>1.0</td>\n",
       "    </tr>\n",
       "    <tr>\n",
       "      <th>5</th>\n",
       "      <td>NaN</td>\n",
       "      <td>5.0</td>\n",
       "      <td>116.0</td>\n",
       "      <td>74.0</td>\n",
       "      <td>0.0</td>\n",
       "      <td>0.0</td>\n",
       "      <td>25.6</td>\n",
       "      <td>0.201</td>\n",
       "      <td>30.0</td>\n",
       "      <td>0.0</td>\n",
       "    </tr>\n",
       "    <tr>\n",
       "      <th>6</th>\n",
       "      <td>NaN</td>\n",
       "      <td>3.0</td>\n",
       "      <td>78.0</td>\n",
       "      <td>50.0</td>\n",
       "      <td>32.0</td>\n",
       "      <td>88.0</td>\n",
       "      <td>31.0</td>\n",
       "      <td>0.248</td>\n",
       "      <td>26.0</td>\n",
       "      <td>1.0</td>\n",
       "    </tr>\n",
       "    <tr>\n",
       "      <th>7</th>\n",
       "      <td>NaN</td>\n",
       "      <td>10.0</td>\n",
       "      <td>115.0</td>\n",
       "      <td>0.0</td>\n",
       "      <td>0.0</td>\n",
       "      <td>0.0</td>\n",
       "      <td>35.3</td>\n",
       "      <td>0.134</td>\n",
       "      <td>29.0</td>\n",
       "      <td>0.0</td>\n",
       "    </tr>\n",
       "    <tr>\n",
       "      <th>8</th>\n",
       "      <td>NaN</td>\n",
       "      <td>2.0</td>\n",
       "      <td>197.0</td>\n",
       "      <td>70.0</td>\n",
       "      <td>45.0</td>\n",
       "      <td>543.0</td>\n",
       "      <td>30.5</td>\n",
       "      <td>0.158</td>\n",
       "      <td>53.0</td>\n",
       "      <td>1.0</td>\n",
       "    </tr>\n",
       "    <tr>\n",
       "      <th>9</th>\n",
       "      <td>NaN</td>\n",
       "      <td>8.0</td>\n",
       "      <td>125.0</td>\n",
       "      <td>96.0</td>\n",
       "      <td>0.0</td>\n",
       "      <td>0.0</td>\n",
       "      <td>0.0</td>\n",
       "      <td>0.232</td>\n",
       "      <td>54.0</td>\n",
       "      <td>1.0</td>\n",
       "    </tr>\n",
       "    <tr>\n",
       "      <th>10</th>\n",
       "      <td>NaN</td>\n",
       "      <td>4.0</td>\n",
       "      <td>110.0</td>\n",
       "      <td>92.0</td>\n",
       "      <td>0.0</td>\n",
       "      <td>0.0</td>\n",
       "      <td>37.6</td>\n",
       "      <td>0.191</td>\n",
       "      <td>30.0</td>\n",
       "      <td>0.0</td>\n",
       "    </tr>\n",
       "  </tbody>\n",
       "</table>\n",
       "</div>"
      ],
      "text/plain": [
       "    Unnamed: 0  Pregnancies  Glucose  blood pressure  skin thickness  Insulin  \\\n",
       "0          NaN          6.0    148.0            72.0            35.0      0.0   \n",
       "1          NaN          1.0     85.0            66.0            29.0      0.0   \n",
       "2          NaN          8.0    183.0            64.0             0.0      0.0   \n",
       "3          NaN          1.0     89.0            66.0            23.0     94.0   \n",
       "4          NaN          0.0    137.0            40.0            35.0    168.0   \n",
       "5          NaN          5.0    116.0            74.0             0.0      0.0   \n",
       "6          NaN          3.0     78.0            50.0            32.0     88.0   \n",
       "7          NaN         10.0    115.0             0.0             0.0      0.0   \n",
       "8          NaN          2.0    197.0            70.0            45.0    543.0   \n",
       "9          NaN          8.0    125.0            96.0             0.0      0.0   \n",
       "10         NaN          4.0    110.0            92.0             0.0      0.0   \n",
       "\n",
       "     BMI  DiabetesPedigreeFunction   Age  Outcome  \n",
       "0   33.6                     0.627  50.0      1.0  \n",
       "1   26.6                     0.351  31.0      0.0  \n",
       "2   23.3                     0.672  32.0      1.0  \n",
       "3   28.1                     0.167  21.0      0.0  \n",
       "4   43.1                     2.288  33.0      1.0  \n",
       "5   25.6                     0.201  30.0      0.0  \n",
       "6   31.0                     0.248  26.0      1.0  \n",
       "7   35.3                     0.134  29.0      0.0  \n",
       "8   30.5                     0.158  53.0      1.0  \n",
       "9    0.0                     0.232  54.0      1.0  \n",
       "10  37.6                     0.191  30.0      0.0  "
      ]
     },
     "execution_count": 77,
     "metadata": {},
     "output_type": "execute_result"
    }
   ],
   "source": [
    "dataset = pd.read_csv(\"diabetes.csv\")\n",
    "dataset.head(11)"
   ]
  },
  {
   "cell_type": "markdown",
   "id": "7b74a848",
   "metadata": {},
   "source": [
    "# Analyzing dataset"
   ]
  },
  {
   "cell_type": "code",
   "execution_count": 78,
   "id": "170e5647",
   "metadata": {},
   "outputs": [
    {
     "name": "stdout",
     "output_type": "stream",
     "text": [
      "<class 'pandas.core.frame.DataFrame'>\n",
      "RangeIndex: 769 entries, 0 to 768\n",
      "Data columns (total 10 columns):\n",
      " #   Column                    Non-Null Count  Dtype  \n",
      "---  ------                    --------------  -----  \n",
      " 0   Unnamed: 0                0 non-null      float64\n",
      " 1   Pregnancies               768 non-null    float64\n",
      " 2   Glucose                   768 non-null    float64\n",
      " 3   blood pressure            768 non-null    float64\n",
      " 4   skin thickness            768 non-null    float64\n",
      " 5   Insulin                   768 non-null    float64\n",
      " 6   BMI                       768 non-null    float64\n",
      " 7   DiabetesPedigreeFunction  768 non-null    float64\n",
      " 8   Age                       768 non-null    float64\n",
      " 9   Outcome                   768 non-null    float64\n",
      "dtypes: float64(10)\n",
      "memory usage: 60.1 KB\n"
     ]
    }
   ],
   "source": [
    "dataset.info()"
   ]
  },
  {
   "cell_type": "code",
   "execution_count": 79,
   "id": "a33cc020",
   "metadata": {},
   "outputs": [],
   "source": [
    "dataset=dataset[0:600]\n",
    "dataset['Outcome']=dataset['Outcome'].astype(int)\n",
    "dataset['Insulin']=dataset['Insulin'].astype(int)\n",
    "dataset=dataset.drop(['Unnamed: 0'],axis=1)"
   ]
  },
  {
   "cell_type": "code",
   "execution_count": 80,
   "id": "4cb71efd",
   "metadata": {},
   "outputs": [
    {
     "data": {
      "text/plain": [
       "0"
      ]
     },
     "execution_count": 80,
     "metadata": {},
     "output_type": "execute_result"
    }
   ],
   "source": [
    "dataset['Outcome'].isnull().sum()\n"
   ]
  },
  {
   "cell_type": "code",
   "execution_count": 81,
   "id": "0b1e7275",
   "metadata": {},
   "outputs": [
    {
     "name": "stdout",
     "output_type": "stream",
     "text": [
      "     Unnamed: 0  Pregnancies  Glucose  blood pressure  skin thickness  \\\n",
      "0           NaN          6.0    148.0            72.0            35.0   \n",
      "1           NaN          1.0     85.0            66.0            29.0   \n",
      "2           NaN          8.0    183.0            64.0             0.0   \n",
      "3           NaN          1.0     89.0            66.0            23.0   \n",
      "4           NaN          0.0    137.0            40.0            35.0   \n",
      "..          ...          ...      ...             ...             ...   \n",
      "764         NaN          2.0    122.0            70.0            27.0   \n",
      "765         NaN          5.0    121.0            72.0            23.0   \n",
      "766         NaN          1.0    126.0            60.0             0.0   \n",
      "767         NaN          1.0     93.0            70.0            31.0   \n",
      "768         NaN          NaN      NaN             NaN             NaN   \n",
      "\n",
      "     Insulin   BMI  DiabetesPedigreeFunction   Age  \n",
      "0        0.0  33.6                     0.627  50.0  \n",
      "1        0.0  26.6                     0.351  31.0  \n",
      "2        0.0  23.3                     0.672  32.0  \n",
      "3       94.0  28.1                     0.167  21.0  \n",
      "4      168.0  43.1                     2.288  33.0  \n",
      "..       ...   ...                       ...   ...  \n",
      "764      0.0  36.8                     0.340  27.0  \n",
      "765    112.0  26.2                     0.245  30.0  \n",
      "766      0.0  30.1                     0.349  47.0  \n",
      "767      0.0  30.4                     0.315  23.0  \n",
      "768      NaN   NaN                       NaN   NaN  \n",
      "\n",
      "[769 rows x 9 columns]\n"
     ]
    }
   ],
   "source": [
    "X = dataset.iloc[:,:-1]\n",
    "y = dataset.iloc[:,-1]\n",
    "X=X[0:600]\n",
    "y=y[0:600]\n",
    "print(x)\n"
   ]
  },
  {
   "cell_type": "markdown",
   "id": "f0c30d39",
   "metadata": {},
   "source": [
    "# Splitting data"
   ]
  },
  {
   "cell_type": "code",
   "execution_count": 82,
   "id": "411febc9",
   "metadata": {},
   "outputs": [],
   "source": [
    "from sklearn.model_selection import train_test_split\n",
    "X_train, X_test, y_train, y_test = train_test_split(X,y,test_size = 25, random_state = 0)\n"
   ]
  },
  {
   "cell_type": "markdown",
   "id": "5a6eb766",
   "metadata": {},
   "source": [
    "# Applying classifiers AND evaluation"
   ]
  },
  {
   "cell_type": "markdown",
   "id": "73dc7796",
   "metadata": {},
   "source": [
    "# LOGISTIC REGRESSION"
   ]
  },
  {
   "cell_type": "code",
   "execution_count": 85,
   "id": "1f865fdf",
   "metadata": {},
   "outputs": [
    {
     "name": "stdout",
     "output_type": "stream",
     "text": [
      "Accuracy :  84.0\n"
     ]
    }
   ],
   "source": [
    "from sklearn.linear_model import LogisticRegression\n",
    "from sklearn.metrics import accuracy_score,r2_score,classification_report\n",
    "logreg = LogisticRegression(solver = 'lbfgs', max_iter=1000)\n",
    "logreg.fit(X_train, y_train)\n",
    "y_pred = logreg.predict(X_test)\n",
    "acc_logreg1 = round(accuracy_score(y_pred, y_test),2)*100\n",
    "print(\"Accuracy : \", acc_logreg1)"
   ]
  },
  {
   "cell_type": "code",
   "execution_count": null,
   "id": "3a1202d3",
   "metadata": {},
   "outputs": [],
   "source": []
  }
 ],
 "metadata": {
  "kernelspec": {
   "display_name": "Python 3 (ipykernel)",
   "language": "python",
   "name": "python3"
  },
  "language_info": {
   "codemirror_mode": {
    "name": "ipython",
    "version": 3
   },
   "file_extension": ".py",
   "mimetype": "text/x-python",
   "name": "python",
   "nbconvert_exporter": "python",
   "pygments_lexer": "ipython3",
   "version": "3.9.7"
  }
 },
 "nbformat": 4,
 "nbformat_minor": 5
}
